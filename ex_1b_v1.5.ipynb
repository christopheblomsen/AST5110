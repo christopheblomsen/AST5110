{
 "cells": [
  {
   "cell_type": "markdown",
   "metadata": {},
   "source": [
    "# Analytical and numerical calculation of the order of approximation of a derivative calculated through finite differences (optional)."
   ]
  },
  {
   "cell_type": "markdown",
   "metadata": {},
   "source": [
    "## 1 – The numerical test of the high-order formula"
   ]
  },
  {
   "cell_type": "markdown",
   "metadata": {},
   "source": [
    "Implement the finite difference formula given by the first term on the right of Eq (5) in the [wiki](https://github.com/AST-Course/AST5110/wiki/Discretization)  into the program you developed for Exercise 1a and test if you get an approximation to the first derivative with an error that converges to zero like $(\\Delta x)^4$."
   ]
  },
  {
   "cell_type": "markdown",
   "metadata": {},
   "source": [
    "Compare the 2nd-order and 4th-order error curves. Which error do you get in either case for 128 intervals? For 512 intervals? For 1024 intervals?"
   ]
  },
  {
   "cell_type": "code",
   "execution_count": null,
   "metadata": {},
   "outputs": [],
   "source": [
    "import numpy as np \n",
    "import matplotlib.pyplot as plt \n",
    "from nm_lib import nm_lib as nm\n",
    "import importlib\n",
    "importlib.reload(nm)"
   ]
  },
  {
   "cell_type": "code",
   "execution_count": null,
   "metadata": {},
   "outputs": [],
   "source": [
    "def h(x):\n",
    "    \"\"\"\n",
    "    Equation (1) from above\n",
    "\n",
    "    Parameters\n",
    "    ----------\n",
    "    x   :   `array`\n",
    "            Spatial axis\n",
    "    \n",
    "    Returns\n",
    "    -------\n",
    "    `array`\n",
    "        The solution over the spatial axis\n",
    "    \"\"\"\n",
    "    ans = np.cos(np.pi*(x-1)/2)*np.exp(-((x-3)/2.5)**2)\n",
    "    return ans\n",
    "\n",
    "def dh(xx):\n",
    "    \"\"\"\n",
    "    The analytical derivate of h(x)\n",
    "    # Hand calculations were wrong\n",
    "    u = np.cos(np.pi*(xx-1)/2)\n",
    "    v = np.exp(-((xx-3)/2.5)**2)\n",
    "    \n",
    "    du = - np.pi/2 * np.sin(np.pi*(xx - 1)/2)\n",
    "    dv = - 2*((xx-3)/2.5)*(1/2.5)*np.exp(- ((xx-3)/2.5)**2)\n",
    "    \n",
    "    ans = du*v + v*dv\n",
    "\n",
    "    Parameters\n",
    "    ----------\n",
    "    xx  :   `array`\n",
    "            Spatial axis\n",
    "    \"\"\"\n",
    "    # Wolfram alpha\n",
    "    ans = np.exp( -0.16 * (-3 + xx)**2) * (1.5708 * np.cos((np.pi*xx) / 2) - (-0.96 + 0.32 * xx) * np.sin((np.pi * xx) / 2))\n",
    "    return ans"
   ]
  },
  {
   "cell_type": "code",
   "execution_count": null,
   "metadata": {},
   "outputs": [],
   "source": [
    "nump = 65\n",
    "x0 = -4.0\n",
    "xf = 10.0\n",
    "\n",
    "xx = np.arange(nump)/(nump - 1.0) * (xf-x0) + x0\n",
    "hh = h(xx)\n",
    "y = nm.deriv_4tho(xx, hh)"
   ]
  },
  {
   "cell_type": "code",
   "execution_count": null,
   "metadata": {},
   "outputs": [],
   "source": [
    "plt.plot(xx, y)\n",
    "plt.plot(xx, dh(xx))"
   ]
  },
  {
   "cell_type": "code",
   "execution_count": null,
   "metadata": {},
   "outputs": [],
   "source": [
    "fig, ax = plt.subplots(1, 1, figsize=(12, 17))\n",
    "l = 0\n",
    "abs_err = []\n",
    "dxs = []\n",
    "\n",
    "for i in range(4, 11):\n",
    "    nint = 2**i\n",
    "    nump = nint + 1\n",
    "    xx = np.arange(nump)/(nint) * (xf - x0) + x0\n",
    "    \n",
    "    dx = xx[1] - xx[0]\n",
    "\n",
    "    y = nm.deriv_4tho(xx, h(xx))\n",
    "    y_exact = dh(xx)\n",
    "    \n",
    "    abs_err.append(np.mean(abs(y[2:-2]-y_exact[2:-2])))\n",
    "    dxs.append(dx)\n",
    "\n",
    "    ax.set_title(f'nint={nint}')\n",
    "    ax.semilogy(xx, abs(y-y_exact), label=f'nint {nint}')\n",
    "    ax.legend()\n",
    "\n",
    "plt.tight_layout()"
   ]
  },
  {
   "cell_type": "code",
   "execution_count": null,
   "metadata": {},
   "outputs": [],
   "source": [
    "z = np.polyfit(np.log10(dxs[:-3]), np.log10(abs_err[:-3]), deg=1)\n",
    "p = np.poly1d(z)\n",
    "print(p)"
   ]
  },
  {
   "cell_type": "code",
   "execution_count": null,
   "metadata": {},
   "outputs": [],
   "source": [
    "\n",
    "nint_list = [2**i for i in range(4, 11)]\n",
    "\n",
    "fig = plt.figure(figsize=(10,10))\n",
    "plt.ylabel('abs error')\n",
    "plt.xlabel(\"nint\")\n",
    "\n",
    "plt.loglog(dxs, abs_err, '-x')"
   ]
  },
  {
   "attachments": {},
   "cell_type": "markdown",
   "metadata": {},
   "source": [
    "## 2 - Precission\n",
    "\n",
    "Try for more than $10^6$ grid points. What do you see? What happens if you try for a lower or higher floating number? Numpy uses float 64 as default. Instead, use `np.float32` and `np.float128` (note: `np.float128` sometimes gives an error with `np.roll`!). Explain the error slopes. "
   ]
  },
  {
   "cell_type": "code",
   "execution_count": null,
   "metadata": {},
   "outputs": [],
   "source": [
    "#fig, ax = plt.subplots(1, 1, figsize=(12, 17))\n",
    "\n",
    "abs_err_32 = []\n",
    "dxs_32 = []\n",
    "\n",
    "abs_err_64 = []\n",
    "dxs_64 = []\n",
    "for i in range(8):\n",
    "    n = 10**i\n",
    "    nint = np.float32(n)\n",
    "    nump = np.float32(nint + 1)\n",
    "    xx = np.float32(np.arange(nump)/(nint) * (xf - x0) + x0)\n",
    "\n",
    "    dx = np.float32(xx[1] - xx[0])\n",
    "\n",
    "    y = np.float32(nm.deriv_dnw(xx, h(xx)))\n",
    "    y_exact = np.float32(dh(xx))\n",
    "\n",
    "    diff = np.abs(y-y_exact)\n",
    "    \n",
    "    dxs_32.append(dx)\n",
    "    abs_err_32.append(np.mean(diff[1:]))\n",
    "\n",
    "    #ax.set_title(f'nint={nint}')\n",
    "    #ax.semilogy(xx, diff, '-x', label=f'32, nint: {nint}')\n",
    "        \n",
    "    nint_64 = np.float64(n)\n",
    "    nump_64 = np.float64(nint_64 + 1)\n",
    "    xx_64 = np.float64(np.arange(nump_64)/(nint_64) * (xf - x0) + x0)\n",
    "\n",
    "    dx_64 = np.float64(xx_64[1] - xx_64[0])\n",
    "\n",
    "    y_64 = np.float64(nm.deriv_dnw(xx_64, h(xx)))\n",
    "    y_exact_64 = np.float64(dh(xx_64))\n",
    "\n",
    "    diff_64 = np.abs(y_64-y_exact_64)\n",
    "\n",
    "    dxs_64.append(dx_64)\n",
    "    abs_err_64.append(np.mean(diff_64[1:]))\n",
    "\n",
    "    #ax.semilogy(xx_64, diff_64, '-x', label=f'64, nint: {nint}')\n",
    "#plt.legend()\n",
    "    "
   ]
  },
  {
   "cell_type": "code",
   "execution_count": null,
   "metadata": {},
   "outputs": [],
   "source": [
    "print(np.shape(dxs_32))\n",
    "z = np.polyfit(np.log10(dxs_32), np.log10(abs_err_32), deg=1)\n",
    "p = np.poly1d(z)\n",
    "\n",
    "z_64 = np.polyfit(np.log10(dxs_64), np.log10(abs_err_64), deg=1)\n",
    "p_64 = np.poly1d(z_64)"
   ]
  },
  {
   "cell_type": "code",
   "execution_count": null,
   "metadata": {},
   "outputs": [],
   "source": [
    "fig = plt.figure(figsize=(10,10))\n",
    "plt.ylabel('abs error')\n",
    "plt.xlabel(\"nint\")\n",
    "plt.plot(np.log10(dxs_32), p(np.log10(dxs_32)), '-.', label='fit float32')\n",
    "plt.plot(np.log10(dxs_64), p_64(np.log10(dxs_64)), '--', label='fit float64')\n",
    "for i in range(4):\n",
    "    plt.plot(np.log10(dxs_32[i]), np.log10(abs_err_32[i]), '-x')\n",
    "    plt.plot(np.log10(dxs_64[i]), np.log10(abs_err_64[i]), '-x')\n",
    "plt.legend()"
   ]
  }
 ],
 "metadata": {
  "kernelspec": {
   "display_name": "Python 3",
   "language": "python",
   "name": "python3"
  },
  "language_info": {
   "codemirror_mode": {
    "name": "ipython",
    "version": 3
   },
   "file_extension": ".py",
   "mimetype": "text/x-python",
   "name": "python",
   "nbconvert_exporter": "python",
   "pygments_lexer": "ipython3",
   "version": "3.10.6 (main, Nov 14 2022, 16:10:14) [GCC 11.3.0]"
  },
  "vscode": {
   "interpreter": {
    "hash": "916dbcbb3f70747c44a77c7bcd40155683ae19c65e1c03b4aa3499c5328201f1"
   }
  }
 },
 "nbformat": 4,
 "nbformat_minor": 4
}
