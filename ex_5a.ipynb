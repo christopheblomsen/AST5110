{
 "cells": [
  {
   "cell_type": "markdown",
   "metadata": {},
   "source": [
    "# Space-time partial differential equation: Study of the diffusive equation (implicit methods)"
   ]
  },
  {
   "cell_type": "code",
   "execution_count": 1,
   "metadata": {},
   "outputs": [
    {
     "data": {
      "text/plain": [
       "<module 'nm_lib' from '/Users/juanms/Numerical_sim_course/students_2023/master/Christophe_Kristian_Blomsen/nm_lib/nm_lib/__init__.py'>"
      ]
     },
     "execution_count": 1,
     "metadata": {},
     "output_type": "execute_result"
    }
   ],
   "source": [
    "import numpy as np \n",
    "import matplotlib.pyplot as plt \n",
    "import nm_lib as nm \n",
    "import importlib\n",
    "importlib.reload(nm)"
   ]
  },
  {
   "cell_type": "markdown",
   "metadata": {},
   "source": [
    "Let's consider now the viscous term in Burger's equation: \n",
    "\n",
    "$$\\frac{\\partial u}{\\partial t} = \\nu \\frac{\\partial^2 u}{\\partial x^2}, \\tag{1}$$"
   ]
  },
  {
   "cell_type": "markdown",
   "metadata": {},
   "source": [
    "## 1- Apply an explicit method. \n",
    "\n",
    "What would be the CFL condition for a viscous term where $\\nu$ is either a constant or an array that depends on $x$. We would like to solve equation (1) numerically for $x  [x_0, x_f]$ with $x_0 = −2.6$, $x_f = 2.6$, periodic boundary conditions and with the initial condition:\n",
    "\n",
    "$$u(x,t=t_0) = A\\exp(-(x-x_0)^2/W^2)   \\tag{2}$$\n",
    "\n",
    "with $A=0.3$, $W=0.1$, and $x_0=0$. __Suggestion__: Apply the first derivative upwind and the second downwind. Apply Von Newman analysis. Is it stable? What is the time-step dependence with $\\Delta x$? \n",
    "\n",
    "How many steps are needed to reach a $t=1.8$ for $nump=128$? And $256$? "
   ]
  },
  {
   "cell_type": "code",
   "execution_count": 2,
   "metadata": {},
   "outputs": [],
   "source": [
    "def u(x, x0=0, A=0.3, W=0.1):\n",
    "    ans = A*np.exp(-((x - x0)/W)**2)\n",
    "    return ans\n",
    "\n",
    "def spatial_domain(nump, x0=-2/6, xf=2.6):\n",
    "    ans = np.arange(nump)/(nump - 1) * (xf - x0) + x0\n",
    "    return ans"
   ]
  },
  {
   "attachments": {},
   "cell_type": "markdown",
   "metadata": {},
   "source": [
    "Using the suggestion we get that\n",
    "$$\n",
    "\\frac{u^{n+1}_{j} - u^{n}_{j}}{\\Delta t} = \\nu \\frac{u_{j+1}^{n} - 2u_{j}^{n} + u_{j-1}^{n}}{\\Delta x^2}\n",
    "$$"
   ]
  },
  {
   "attachments": {},
   "cell_type": "markdown",
   "metadata": {},
   "source": [
    "Now using the Von Newmann analysis for the equation above.\n",
    "\n",
    "$$\n",
    "\\begin{align}\n",
    "    u_{j}^{n} &= \\xi^{n} e^{ijk\\Delta x}\\\\\n",
    "    u_{j}^{n+1} &= \\xi^{n+1} e^{ijk\\Delta x}\\\\\n",
    "    u_{j+1}^n &= \\xi^{n} e^{i(j+1)k\\Delta x} \\\\\n",
    "    u_{j-1}^n &= \\xi^{n} e^{i(j-1)k\\Delta x} \\\\\n",
    "\\end{align}\n",
    "$$\n",
    "Using $\\frac{\\nu\\Delta t}{\\Delta x^2}=\\chi$, and $\\frac{k\\Delta x}{2}=\\alpha$\n",
    "We get the following\n",
    "\n"
   ]
  },
  {
   "attachments": {},
   "cell_type": "markdown",
   "metadata": {},
   "source": [
    "$$\n",
    "\\begin{align}\n",
    "e^{ijk\\Delta x}\\xi^{n}\\frac{\\xi - 1}{\\Delta t} &= \\nu\\xi^{n}e^{ijk\\Delta x} \\frac{e^{ik\\Delta x} -2 + e^{-ik\\Delta x}}{\\Delta x^2}\\\\\n",
    "\\xi &= \\chi\\left(e^{ik\\Delta x} - 2 + e^{-ik\\Delta x}\\right) +1\\\\\n",
    "\\xi &= \\chi\\left(\\cos(k\\Delta x) + i\\sin(k\\Delta x) + \\cos(k\\Delta x) - i\\sin(k\\Delta x) -2 \\right) +1\\\\\n",
    "\\xi &= 2\\chi\\left(\\cos(k\\Delta x) - 1\\right) + 1\\\\\n",
    "\\xi &= 1 - 4\\chi\\sin^2\\left(\\alpha\\right)\\\\\n",
    "&\\Downarrow\\nonumber\\\\\n",
    "\\left|\\xi\\right|^2 &= 1 - 8\\chi\\sin^2\\left(\\alpha\\right) + 16\\chi^2 \\sin^4(\\alpha)\n",
    "\\end{align}\n",
    "$$"
   ]
  },
  {
   "attachments": {},
   "cell_type": "markdown",
   "metadata": {},
   "source": [
    "Applying the Von Neumann stability analysis criterion\n",
    "$$\n",
    "\\begin{align*}\n",
    "\\left|\\xi\\right|^2 &\\leq 1\\\\\n",
    "16\\chi^2\\sin^4(\\alpha) &\\leq 8\\chi\\sin^2(\\alpha)\\\\\n",
    "2\\chi\\sin^2(\\alpha) &\\leq 1 \n",
    "\\end{align*}\n",
    "$$\n",
    "Inserting for $\\chi = \\frac{\\nu\\Delta t}{\\Delta x^2}$ and using the fact that this should apply for all values of $k$, so can just take the maximum value of $\\sin$ which is 1\n",
    "$$\n",
    "\\begin{align*}\n",
    "2\\frac{\\nu\\Delta t}{\\Delta x^2} &\\leq 1\\\\\n",
    "\\Delta t &\\leq \\frac{\\Delta x^2}{2\\nu}\n",
    "\\end{align*}\n",
    "$$\n",
    "Which is then is the time step dependence on $\\Delta x$ for it to be stable. To reach $t=1.8$, we will then use the maximum value that $\\Delta t$ value\n"
   ]
  },
  {
   "cell_type": "code",
   "execution_count": 3,
   "metadata": {},
   "outputs": [
    {
     "name": "stdout",
     "output_type": "stream",
     "text": [
      "The amount of timesteps needed with 128 is: 6748.19\n",
      "The amount of timesteps needed with 256 is: 27205.71\n"
     ]
    }
   ],
   "source": [
    "nu = 1\n",
    "nump_list = [128, 256]\n",
    "for nump in nump_list:\n",
    "    xx = spatial_domain(nump)\n",
    "\n",
    "    dx = xx[1] - xx[0] \n",
    "    dt = dx**2/(2*nu)\n",
    "    time_steps = (1.8/(np.min(dt)*np.abs(nu)))\n",
    "\n",
    "    print(f'The amount of timesteps needed with {nump} is: {time_steps:.2f}')\n"
   ]
  },
  {
   "attachments": {},
   "cell_type": "markdown",
   "metadata": {},
   "source": [
    "<span style=\"color:green\"> JMS. </span>\n",
    "\n",
    "<span style=\"color:blue\"> OK. Note that the number of steps (with double resolution) is not double, but quadruple.</span>."
   ]
  },
  {
   "cell_type": "markdown",
   "metadata": {},
   "source": [
    "## Choose one of the following options: "
   ]
  },
  {
   "cell_type": "markdown",
   "metadata": {},
   "source": [
    "## 2- Implicit methods."
   ]
  },
  {
   "cell_type": "markdown",
   "metadata": {},
   "source": [
    "In the [wiki](https://github.com/AST-Course/AST5110/wiki/Implicit-methods), we describe some implicit or semi-explicit methods that allow relaxing the CFL constraint on diffusive terms. Consider Newton-Rapson method and repeat the previous numerical experiment. For this, you will need to implement the following   \n",
    "\n",
    "\n",
    "$F_j = u^{n+1}_j - u^n_j - \\nu \\, (u^{n+1}_{j+1} - 2u^{n+1}_{j}+u^{n+1}_{j-1})\\frac{\\Delta t}{\\Delta x^2}$\n",
    "\n",
    "in `NR_f` and `step_diff_burgers` functions in `nm_lib`. \n",
    "\n",
    "And the Jacobian can be easily built. \n",
    "\n",
    "$J(j,k) = F_j'(u^{n+1}_k)$\n",
    "\n",
    "fill in the `jacobian` function in `nm_lib`. Note that this matrix is linear with $u$. \n",
    "\n",
    "Test the model with [wiki](https://github.com/AST-Course/AST5110/wiki/Self-similar-solution-for-parabolic-eq) self-similar solutions. How long it takes each time step compared to the Lax-method? Use `time.time` library. Do it for nump=256, nt=30 and dt = 0.1. In order to test the simulation, use `curve_fit` from `scipy.optimize`. \n",
    "\n",
    "__hint__ consider to use a good initial guess (`p0`) in and `bnd_limits` to facilitate the fitting wiht `curve_fit`. What happens to the solution when increasing dt? How much can be improved in limiting the tolerance?"
   ]
  },
  {
   "cell_type": "markdown",
   "metadata": {},
   "source": [
    "----------------------------------------------"
   ]
  },
  {
   "cell_type": "markdown",
   "metadata": {},
   "source": [
    "Let's consider a non-linear function where $\\nu$ depends on $u$. To keep it simple, solve the following: \n",
    "\n",
    "$\\frac{\\partial u}{\\partial t} = u \\frac{\\partial^2 u}{\\partial x^2}$\n",
    "\n",
    "where $\\nu_0$ is a constant and the same initial conditions as the previous exercise (fill in `Newton_Raphson_u`, `jacobian_u` and `NR_f_u`. Consider an error limit of $10^{-4}$ and compare the previous exercise (with the same error limit). How many iterations needs now the method to converge to the right solution? Why? Increase `ncount` to 1000. "
   ]
  },
  {
   "cell_type": "markdown",
   "metadata": {},
   "source": [
    "## 3- Semi-explicit methods. \n",
    "\n",
    "__a)__ Super-time-stepping (STS) schemes work for parabolic terms. STS is an API method that performs a subset of \"unstable\" intermediate steps, but the sum of all the steps is stable. Visualize how `taui_sts` varies with $nu$ and $niter$. Compare the solution with the analytical one for the final and intermediate STS steps. For the full STS steps, how improves the solution with $nu$? and $niter$? Is there a relation between the error and these two parameters, $nu$, and $niter$? For which $niter$ and $nu$ the method provides larger steps than an ordinary explicit. For this exercise, fill in `evol_sts`, and `taui_sts`. "
   ]
  },
  {
   "cell_type": "code",
   "execution_count": null,
   "metadata": {},
   "outputs": [],
   "source": []
  }
 ],
 "metadata": {
  "kernelspec": {
   "display_name": "Python 3",
   "language": "python",
   "name": "python3"
  },
  "language_info": {
   "codemirror_mode": {
    "name": "ipython",
    "version": 3
   },
   "file_extension": ".py",
   "mimetype": "text/x-python",
   "name": "python",
   "nbconvert_exporter": "python",
   "pygments_lexer": "ipython3",
   "version": "3.10.9"
  },
  "vscode": {
   "interpreter": {
    "hash": "916dbcbb3f70747c44a77c7bcd40155683ae19c65e1c03b4aa3499c5328201f1"
   }
  }
 },
 "nbformat": 4,
 "nbformat_minor": 4
}
