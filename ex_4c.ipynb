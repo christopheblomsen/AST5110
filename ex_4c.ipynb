{
 "cells": [
  {
   "cell_type": "markdown",
   "metadata": {},
   "source": [
    "# Riemann scheme. "
   ]
  },
  {
   "cell_type": "markdown",
   "metadata": {},
   "source": [
    "Lets consider same setup as in [ex_3a](https://github.com/AST-Course/AST5110/blob/main/ex_3a.ipynb) Burgers’ equation, i.e.,\n",
    "\n",
    "$$\\frac{\\partial u}{\\partial t} + u \\frac{\\partial u}{\\partial x} = 0   \\tag{1}$$ \n",
    "\n",
    "for the domain $x \\in (x_0, x_f)$ with $x_0 = −1.4$, $x_f = 2.0$ with initial condition:\n",
    "\n",
    "$$u(x,t=0) = A\\left[\\tanh\\left(\\frac{x+x_c}{W}\\right)-\\tanh\\left(\\frac{x-x_c}{W}\\right)\\right]   \\tag{2}$$\n",
    "\n",
    "whereby $A = 0.02$ , $x_c = 0.70$, $W = 0.1$. Let the solution evolve until time $t_f = 100$. However, let's now implement a new time-step method. Find the conservative form of the equation and implement a Rieman solver [wiki:Rieman Solvers](https://github.com/AST-Course/AST5110/wiki/Riemann-solvers). \n",
    "\n",
    "Add this to your library and solve the previous simulation imposing the CFL condition. For this exercise, fill in `nm_lib` the function `evolv_Rie_uadv_burgers`. "
   ]
  },
  {
   "cell_type": "code",
   "execution_count": 1,
   "metadata": {},
   "outputs": [
    {
     "data": {
      "text/plain": [
       "<module 'nm_lib.nm_lib' from '/home/astronih/Documents/nm_lib/nm_lib/nm_lib.py'>"
      ]
     },
     "execution_count": 1,
     "metadata": {},
     "output_type": "execute_result"
    }
   ],
   "source": [
    "import numpy as np \n",
    "import matplotlib.pyplot as plt \n",
    "from nm_lib import nm_lib as nm\n",
    "from IPython.display import HTML\n",
    "import importlib\n",
    "importlib.reload(nm)"
   ]
  },
  {
   "cell_type": "code",
   "execution_count": 2,
   "metadata": {},
   "outputs": [],
   "source": [
    "def u_init(xx, A=0.02, xc=0.7, W=0.1):\n",
    "    ans = A*(np.tanh((xx + xc)/W) - np.tanh((xx - xc)/W))\n",
    "    return ans\n",
    "    \n",
    "def u(xx, t, a):\n",
    "    X = (xx - a*t)\n",
    "    L = xx[-1] - xx[0]\n",
    "    new_X = (X + L/2)%L - L/2\n",
    "    return u_init(new_X)\n",
    "\n",
    "x0 = -1.4\n",
    "xf = 2.0\n",
    "nump = 257\n",
    "\n",
    "xx = np.arange(nump)/(nump - 1) * (xf - x0) + x0"
   ]
  },
  {
   "cell_type": "code",
   "execution_count": 3,
   "metadata": {},
   "outputs": [],
   "source": [
    "u_L = uu[:-1]\n",
    "u_R = uu[1:]"
   ]
  },
  {
   "cell_type": "markdown",
   "metadata": {},
   "source": [
    "#### 1 step\n",
    "\n",
    "Compute left and right of $u$, i.e., $u_L$ and $u_R$\n",
    "\n",
    "#### 2 step\n",
    "Compute from those the flux, i.e., $F_L$ and $F_R$\n",
    "\n",
    "#### 3 step\n",
    "Compute the propagating speed ($v_a[i]=max(|u[i],|u[i-1]|)$)\n",
    "\n",
    "#### 4 step\n",
    "Compute the interface fluxes (Rusanov)\n",
    "\n",
    "$rhs=(F_R+F_L)/2 - v_a (U_R -U_L)$\n",
    "\n",
    "#### 5 step\n",
    "Advance in time $u^{n+1}=u^n + dt\\times rhs$. What is dt? \n"
   ]
  },
  {
   "cell_type": "markdown",
   "metadata": {},
   "source": [
    "Is this method less or more diffusive than Lax method? Find the analytical solution and compare. Where and when is better or worse than the Lax method? "
   ]
  },
  {
   "cell_type": "markdown",
   "metadata": {},
   "source": [
    "---\n",
    "## TVD scheme. \n",
    "\n",
    "Combine the Lax method with the Rieman solver using a flux limiter scheme. For this, one needs to identify how large are the gradients. Lets define: \n",
    "\n",
    "$$r^{+}_i = \\frac{u_i-u_{i-1}}{u_{i+1}+u_i}$$\n",
    "\n",
    "What kind of properties do you see on $r^{+}_i$? e.g., what happens when $r\\ge0$? or $r\\le0$? \n",
    "\n",
    "now lets consider the following flux limiter: \n",
    "\n",
    "$$\\phi = max\\left(0,min\\left(\\theta r,\\frac{1+r}{2},\\theta \\right)\\right),\\, \\theta =[1,2]$$"
   ]
  },
  {
   "cell_type": "markdown",
   "metadata": {},
   "source": [
    "Finally, combine the Lax from previous excersice with the Riemann solver using the flux limiter as follows: \n",
    "\n",
    "$$u^{n+1}_i = u^n_i + dt (f^n_{i+1/2}-f^n_{i-1/2})$$\n",
    "\n",
    "Where \n",
    "\n",
    "$$f^n_{i+1/2} = f^{Riemann}_{i+1/2} + \\phi^n_i (f^{L}_{i+1/2}-f^{Riemann}_{i+1/2})$$\n",
    "\n"
   ]
  },
  {
   "cell_type": "markdown",
   "metadata": {},
   "source": [
    "When becomes purely Rieman solver? And Lax? Which others methods you can find depending on what is $r$ of $\\phi$. "
   ]
  },
  {
   "cell_type": "code",
   "execution_count": null,
   "metadata": {},
   "outputs": [],
   "source": []
  }
 ],
 "metadata": {
  "kernelspec": {
   "display_name": "Python 3",
   "language": "python",
   "name": "python3"
  },
  "language_info": {
   "codemirror_mode": {
    "name": "ipython",
    "version": 3
   },
   "file_extension": ".py",
   "mimetype": "text/x-python",
   "name": "python",
   "nbconvert_exporter": "python",
   "pygments_lexer": "ipython3",
   "version": "3.10.6"
  },
  "vscode": {
   "interpreter": {
    "hash": "916dbcbb3f70747c44a77c7bcd40155683ae19c65e1c03b4aa3499c5328201f1"
   }
  }
 },
 "nbformat": 4,
 "nbformat_minor": 4
}
